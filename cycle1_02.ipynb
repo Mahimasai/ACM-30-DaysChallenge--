{
  "nbformat": 4,
  "nbformat_minor": 0,
  "metadata": {
    "colab": {
      "provenance": [],
      "authorship_tag": "ABX9TyMDWrYTASvYVzE/2E55b14l",
      "include_colab_link": true
    },
    "kernelspec": {
      "name": "python3",
      "display_name": "Python 3"
    },
    "language_info": {
      "name": "python"
    }
  },
  "cells": [
    {
      "cell_type": "markdown",
      "metadata": {
        "id": "view-in-github",
        "colab_type": "text"
      },
      "source": [
        "<a href=\"https://colab.research.google.com/github/Mahimasai/ACM-30-DaysChallenge--/blob/main/cycle1_02.ipynb\" target=\"_parent\"><img src=\"https://colab.research.google.com/assets/colab-badge.svg\" alt=\"Open In Colab\"/></a>"
      ]
    },
    {
      "cell_type": "code",
      "execution_count": 4,
      "metadata": {
        "colab": {
          "base_uri": "https://localhost:8080/"
        },
        "id": "0NswNkdaGmEN",
        "outputId": "075e122f-ff5d-47d0-861e-1cd8a1e227b3"
      },
      "outputs": [
        {
          "output_type": "stream",
          "name": "stdout",
          "text": [
            "Categorical columns :  ['Gender', 'Country', 'JobRole', 'Department', 'RemoteWork', 'HasMentalHealthSupport', 'HasTherapyAccess', 'SalaryRange']\n",
            "Numerical columns :  ['EmployeeID', 'Age', 'YearsAtCompany', 'WorkHoursPerWeek', 'BurnoutLevel', 'JobSatisfaction', 'ProductivityScore', 'SleepHours', 'PhysicalActivityHrs', 'CommuteTime', 'ManagerSupportScore', 'MentalHealthDaysOff', 'WorkLifeBalanceScore', 'TeamSize', 'CareerGrowthScore', 'BurnoutRisk']\n",
            "          MSE  R2 Score\n",
            "Linear  6.937    -0.035\n",
            "Ridge   6.936    -0.035\n",
            "Lasso   6.847    -0.022\n"
          ]
        }
      ],
      "source": [
        "import pandas as pd\n",
        "from sklearn.model_selection import train_test_split\n",
        "from sklearn.linear_model import LinearRegression, Ridge, Lasso\n",
        "from sklearn.preprocessing import StandardScaler\n",
        "from sklearn.metrics import mean_squared_error, r2_score\n",
        "df = pd.read_csv('/content/mental_health_workplace_survey.csv')\n",
        "\n",
        "target = 'StressLevel'\n",
        "\n",
        "categorial_cols = df.select_dtypes(include=['object', 'bool']).columns.tolist()\n",
        "numerial_cols = df.select_dtypes(include=['int64','float64']).drop(target, axis=1).columns.tolist()\n",
        "\n",
        "print(\"Categorical columns : \", categorial_cols)\n",
        "print(\"Numerical columns : \", numerial_cols)\n",
        "\n",
        "df_encoded = pd.get_dummies(df, columns=categorial_cols, drop_first=True)\n",
        "scaler = StandardScaler()\n",
        "df_encoded[numerial_cols] = scaler.fit_transform(df_encoded[numerial_cols])\n",
        "df_encoded['Stress and Sleep'] = df_encoded['StressLevel'] * df_encoded['SleepHours']\n",
        "df_encoded['Stress and Work'] = df_encoded['StressLevel'] * df_encoded['WorkHoursPerWeek']\n",
        "X = df_encoded.drop(target, axis=1)\n",
        "y = df_encoded[target]\n",
        "X_train, X_test, y_train, y_test = train_test_split(X, y, test_size=0.2, random_state=1)\n",
        "models = {\n",
        "    \"Linear\": LinearRegression(),\n",
        "    \"Ridge\": Ridge(alpha=1.0),\n",
        "    \"Lasso\": Lasso(alpha=0.01)\n",
        "}\n",
        "results = {}\n",
        "for name, model in models.items():\n",
        "    model.fit(X_train, y_train)\n",
        "    y_pred = model.predict(X_test)\n",
        "    results[name] = {\n",
        "        'MSE': round(mean_squared_error(y_test, y_pred), 3),\n",
        "        'R2 Score': round(r2_score(y_test, y_pred), 3)\n",
        "    }\n",
        "results_df = pd.DataFrame(results).T\n",
        "print(results_df)\n"
      ]
    }
  ]
}